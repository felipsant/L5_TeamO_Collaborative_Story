{
 "cells": [
  {
   "cell_type": "code",
   "execution_count": 14,
   "id": "2d35b79c",
   "metadata": {},
   "outputs": [],
   "source": [
    "import pandas as pd\n",
    "\n",
    "def group_and_average (df, gv):\n",
    "    \"\"\"\n",
    "    Arguments:\n",
    "    `df`: pandas DataFrame \n",
    "    `gv`: name of the grouping variable\n",
    "    \n",
    "    Output:\n",
    "    `av_df`: averaged and aggregated DataFrame\n",
    "    \"\"\"\n",
    "    \n",
    "    # Convert the 'status' column from categorical to numerical\n",
    "    df['status'] = df['status'].astype(int)\n",
    "\n",
    "    # Only numeric variables\n",
    "    numeric_columns=df.copy()\n",
    "    numeric_columns = df.select_dtypes(include=['number'])\n",
    "    \n",
    "    # Mean for each group\n",
    "    av_df= df.groupby(gv)[numeric_columns.columns].mean().reset_index()\n",
    "    \n",
    "    av_df['status'] = av_df['status'].astype('category')\n",
    "\n",
    "    return av_df\n",
    "\n"
   ]
  },
  {
   "cell_type": "code",
   "execution_count": null,
   "id": "b9f2f582",
   "metadata": {},
   "outputs": [],
   "source": []
  }
 ],
 "metadata": {
  "kernelspec": {
   "display_name": "Python 3 (ipykernel)",
   "language": "python",
   "name": "python3"
  },
  "language_info": {
   "codemirror_mode": {
    "name": "ipython",
    "version": 3
   },
   "file_extension": ".py",
   "mimetype": "text/x-python",
   "name": "python",
   "nbconvert_exporter": "python",
   "pygments_lexer": "ipython3",
   "version": "3.11.5"
  }
 },
 "nbformat": 4,
 "nbformat_minor": 5
}
