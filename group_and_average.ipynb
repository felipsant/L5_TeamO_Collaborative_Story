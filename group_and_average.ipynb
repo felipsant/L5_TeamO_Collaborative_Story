{
 "cells": [
  {
   "cell_type": "code",
   "execution_count": null,
   "id": "2d35b79c",
   "metadata": {},
   "outputs": [],
   "source": [
    "import pandas as pd\n",
    "\n",
    "def group_and_average (df, gv):\n",
    "    \"\"\"\n",
    "    Arguments:\n",
    "    `df`: pandas DataFrame \n",
    "    `gv`: name of the grouping variable\n",
    "    \n",
    "    Output:\n",
    "    `av_df`: averaged and aggregated DataFrame\n",
    "    \"\"\"\n",
    "    \n",
    "    # Group by \n",
    "    df_group= df.groupby(gv)\n",
    "    \n",
    "    # Mean for each group\n",
    "    av_df= df_group.mean().reset_index()\n",
    "    \n",
    "    return av_df\n"
   ]
  }
 ],
 "metadata": {
  "kernelspec": {
   "display_name": "Python 3 (ipykernel)",
   "language": "python",
   "name": "python3"
  },
  "language_info": {
   "codemirror_mode": {
    "name": "ipython",
    "version": 3
   },
   "file_extension": ".py",
   "mimetype": "text/x-python",
   "name": "python",
   "nbconvert_exporter": "python",
   "pygments_lexer": "ipython3",
   "version": "3.11.5"
  }
 },
 "nbformat": 4,
 "nbformat_minor": 5
}
