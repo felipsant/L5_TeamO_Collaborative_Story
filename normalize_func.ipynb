{
 "cells": [
  {
   "cell_type": "code",
   "execution_count": 1,
   "id": "b2a701cd",
   "metadata": {},
   "outputs": [],
   "source": [
    "def normalize(df, op):\n",
    "    norm_df = df.copy()\n",
    "    if op == 0:\n",
    "        for col in norm_df.columns:\n",
    "            if norm_df[col].dtype != 'float64' or  norm_df[col].nunique() < 10:\n",
    "                continue\n",
    "            else:\n",
    "                norm_df[col] = (norm_df[col] - norm_df[col].mean())/norm_df[col].std()\n",
    "    elif op == 1:\n",
    "        for col in norm_df.columns:\n",
    "            if norm_df[col].dtype != 'float64' or  norm_df[col].nunique() < 10:\n",
    "                continue\n",
    "            else:\n",
    "                norm_df[col] = (norm_df[col] - norm_df[col].min())/(norm_df[col].max() - norm_df[col].min())\n",
    "    return norm_df"
   ]
  }
 ],
 "metadata": {
  "kernelspec": {
   "display_name": "Python 3",
   "language": "python",
   "name": "python3"
  },
  "language_info": {
   "codemirror_mode": {
    "name": "ipython",
    "version": 3
   },
   "file_extension": ".py",
   "mimetype": "text/x-python",
   "name": "python",
   "nbconvert_exporter": "python",
   "pygments_lexer": "ipython3",
   "version": "3.8.8"
  }
 },
 "nbformat": 4,
 "nbformat_minor": 5
}
