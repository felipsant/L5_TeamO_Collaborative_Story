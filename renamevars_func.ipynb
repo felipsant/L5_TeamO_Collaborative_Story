{
 "cells": [
  {
   "cell_type": "code",
   "execution_count": 21,
   "id": "0c94a235-d875-4be9-a05f-f108cf052c8a",
   "metadata": {},
   "outputs": [],
   "source": [
    "import pandas as pd\n",
    "import warnings\n",
    "def renamevars(df, dict_names):\n",
    "    \"\"\"\n",
    "    Rename variables on a given dataframe df. The function returns a df who’s columns\n",
    "    names are as detailed in dict_names\n",
    "    Arguments: \n",
    "    `df`: a given data frame\n",
    "    `dict_names`: a dictionary for mapping the actual names of the columns in the dataframe\n",
    "    (each key of the dictionary) to a given new simpler name (i.e. the values of the dictionary).\n",
    "    \n",
    "    Output:\n",
    "    `renamed_df`: returns the input dataframe but with the columns renamed as in dict_names\n",
    "    \"\"\"\n",
    "    renamed_df = df.rename(columns=dict_names)\n",
    "    return renamed_df\n",
    "\n",
    "def analyzedf(df, groupedColumn):\n",
    "    \"\"\"\n",
    "    Analyze the df and print an pretier version of the describe method, grouped by a column.\n",
    "    Arguments: \n",
    "    `df`: a given data frame\n",
    "    `groupedColumn`: the name of the status column.\n",
    "    \n",
    "    Output:\n",
    "    None: this function prints the result in the screen\n",
    "    \"\"\"\n",
    "    with warnings.catch_warnings():\n",
    "        warnings.simplefilter(\"ignore\", category=FutureWarning)\n",
    "        print(f\"Shape: {df.shape}\")\n",
    "        groupedDf = df.groupby(groupedColumn)\n",
    "        with pd.option_context('display.max_rows', None, 'display.max_columns', None):\n",
    "            for col in df.columns:\n",
    "                print(f\"\\n Column: {col} \\n {groupedDf[col].describe()} \\n\")"
   ]
  }
 ],
 "metadata": {
  "kernelspec": {
   "display_name": "Python 3 (ipykernel)",
   "language": "python",
   "name": "python3"
  },
  "language_info": {
   "codemirror_mode": {
    "name": "ipython",
    "version": 3
   },
   "file_extension": ".py",
   "mimetype": "text/x-python",
   "name": "python",
   "nbconvert_exporter": "python",
   "pygments_lexer": "ipython3",
   "version": "3.12.1"
  }
 },
 "nbformat": 4,
 "nbformat_minor": 5
}
