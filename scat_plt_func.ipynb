{
 "cells": [
  {
   "cell_type": "code",
   "execution_count": 2,
   "id": "c257c426",
   "metadata": {},
   "outputs": [],
   "source": [
    "import matplotlib.pyplot as plt"
   ]
  },
  {
   "cell_type": "code",
   "execution_count": 3,
   "id": "704c11ce",
   "metadata": {},
   "outputs": [],
   "source": [
    "def scat_plt(var1, var2, groups):\n",
    "    list_groups = groups.unique()\n",
    "    for g in list_groups:\n",
    "        plt.scatter(x = var1[groups == g], y = var2[groups == g], label = g)\n",
    "    plt.legend()"
   ]
  }
 ],
 "metadata": {
  "kernelspec": {
   "display_name": "Python 3",
   "language": "python",
   "name": "python3"
  },
  "language_info": {
   "codemirror_mode": {
    "name": "ipython",
    "version": 3
   },
   "file_extension": ".py",
   "mimetype": "text/x-python",
   "name": "python",
   "nbconvert_exporter": "python",
   "pygments_lexer": "ipython3",
   "version": "3.8.8"
  }
 },
 "nbformat": 4,
 "nbformat_minor": 5
}
